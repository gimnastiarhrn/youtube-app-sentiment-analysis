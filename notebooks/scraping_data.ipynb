{
  "nbformat": 4,
  "nbformat_minor": 0,
  "metadata": {
    "colab": {
      "provenance": []
    },
    "kernelspec": {
      "name": "python3",
      "display_name": "Python 3"
    },
    "language_info": {
      "name": "python"
    }
  },
  "cells": [
    {
      "cell_type": "code",
      "execution_count": 5,
      "metadata": {
        "colab": {
          "base_uri": "https://localhost:8080/"
        },
        "id": "AG4WTdQ5_jU4",
        "outputId": "fe3db06a-1fe3-45cd-e408-52573d14a1ae"
      },
      "outputs": [
        {
          "output_type": "stream",
          "name": "stdout",
          "text": [
            "Requirement already satisfied: google-play-scraper in /usr/local/lib/python3.11/dist-packages (1.2.7)\n"
          ]
        }
      ],
      "source": [
        "!pip install google-play-scraper\n",
        "from google_play_scraper import app, reviews, Sort, reviews_all, exceptions\n",
        "import csv\n",
        "import time\n",
        "import random"
      ]
    },
    {
      "cell_type": "code",
      "source": [
        "# Fungsi untuk menyimpan data ke file CSV\n",
        "def save_to_csv(reviews, filename):\n",
        "    with open(filename, mode='w', newline='', encoding='utf-8') as file:\n",
        "        writer = csv.DictWriter(file, fieldnames=[\n",
        "            'reviewId', 'userName', 'content', 'score',\n",
        "            'thumbsUpCount', 'reviewCreatedVersion',\n",
        "            'at', 'replyContent', 'repliedAt'\n",
        "        ])\n",
        "        writer.writeheader()\n",
        "        for review in reviews:\n",
        "            writer.writerow({\n",
        "                'reviewId': review.get('reviewId'),\n",
        "                'userName': review.get('userName'),\n",
        "                'content': review.get('content'),\n",
        "                'score': review.get('score'),\n",
        "                'thumbsUpCount': review.get('thumbsUpCount'),\n",
        "                'reviewCreatedVersion': review.get('reviewCreatedVersion'),\n",
        "                # Convert datetime to string for CSV compatibility\n",
        "                'at': review.get('at').strftime('%Y-%m-%d %H:%M:%S') if review.get('at') else '',\n",
        "                # Reply content and replied date might be None\n",
        "                'replyContent': (review['replyContent'] if review['replyContent'] else '') if isinstance(review, dict) else '',\n",
        "                # Convert datetime to string or empty string if None\n",
        "                'repliedAt': (review['repliedAt'].strftime('%Y-%m-%d %H:%M:%S') if isinstance(review['repliedAt'], type(review['at'])) else '') if isinstance(review, dict) and ('repliedAt' in review) else ''\n",
        "            })\n",
        "\n",
        "# Fungsi untuk scraping ulasan dengan penanganan error dan delay agar tidak diblokir server\n",
        "def scrape_google_play_reviews(app_id, max_reviews=12000):\n",
        "    try:\n",
        "        reviews = reviews_all(\n",
        "            app_id,\n",
        "            lang='id',       # Bahasa Indonesia\n",
        "            country='id',    # Negara Indonesia\n",
        "            sort=Sort.MOST_RELEVANT,\n",
        "            count=max_reviews,\n",
        "            filter_score_with=None  # Ambil semua skor ulasan tanpa filter\n",
        "        )\n",
        "\n",
        "        save_to_csv(reviews, f'{app_id}_reviews.csv')\n",
        "        print(f\"Total reviews collected: {len(reviews)}\")\n",
        "\n",
        "    except exceptions.TooManyRequestsError:\n",
        "        print(\"Terlalu banyak request. Menunggu beberapa menit sebelum mencoba lagi...\")\n",
        "        time.sleep(random.uniform(60, 120))  # Tunggu antara 1-2 menit lalu coba ulangi scraping lagi.\n",
        "        scrape_google_play_reviews(app_id,max_reviews)\n",
        "\n",
        "    except exceptions.RequestFailedError as e:\n",
        "        print(f\"Request gagal: {e}\")\n",
        "\n",
        "    except Exception as e:\n",
        "        print(f\"Terjadi kesalahan: {e}\")\n",
        "\n",
        "#  Aplikasi target\n",
        "app_id = \"com.google.android.youtube\"\n",
        "scrape_google_play_reviews(app_id)"
      ],
      "metadata": {
        "colab": {
          "base_uri": "https://localhost:8080/"
        },
        "id": "BAZQNHJh_xU5",
        "outputId": "03db1481-c31e-4570-85af-5b86361a9abd"
      },
      "execution_count": 6,
      "outputs": [
        {
          "output_type": "stream",
          "name": "stdout",
          "text": [
            "Total reviews collected: 54000\n"
          ]
        }
      ]
    }
  ]
}